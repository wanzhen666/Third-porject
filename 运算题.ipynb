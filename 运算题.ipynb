{
 "cells": [
  {
   "cell_type": "code",
   "execution_count": null,
   "metadata": {},
   "outputs": [
    {
     "name": "stdout",
     "output_type": "stream",
     "text": [
      "加减乘除运算题。\n",
      "总共10道题。开始答题\n",
      "请依次输入第一个数、运算符、第二个数和结果\n",
      "( 1 )\n",
      "20\n",
      "+\n",
      "97\n",
      "117\n",
      "√\n",
      "( 2 )\n"
     ]
    }
   ],
   "source": [
    "print(\"加减乘除运算题。\\n总共10道题。开始答题\\n请依次输入第一个数、运算符、第二个数和结果\")\n",
    "for i in range(1,11):\n",
    "    print(\"(\",i,\")\")\n",
    "    a=int(input());\n",
    "    s=input();\n",
    "    b=int(input());\n",
    "    c=int(input());\n",
    "    if s=='+' and a+b==c:\n",
    "        print(\"√\")\n",
    "    elif s=='-' and a-b==c:\n",
    "        print(\"√\")\n",
    "    elif s=='*' and a*b==c:\n",
    "        print(\"√\")\n",
    "    elif s=='/' and a/b==c:\n",
    "        print(\"√\")\n",
    "    else:\n",
    "        print(\"×\")"
   ]
  },
  {
   "cell_type": "code",
   "execution_count": null,
   "metadata": {},
   "outputs": [],
   "source": []
  }
 ],
 "metadata": {
  "kernelspec": {
   "display_name": "Python 3",
   "language": "python",
   "name": "python3"
  },
  "language_info": {
   "codemirror_mode": {
    "name": "ipython",
    "version": 3
   },
   "file_extension": ".py",
   "mimetype": "text/x-python",
   "name": "python",
   "nbconvert_exporter": "python",
   "pygments_lexer": "ipython3",
   "version": "3.7.4"
  }
 },
 "nbformat": 4,
 "nbformat_minor": 2
}
